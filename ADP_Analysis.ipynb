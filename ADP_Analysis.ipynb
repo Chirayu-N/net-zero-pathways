{
  "cells": [
    {
      "cell_type": "markdown",
      "metadata": {
        "id": "-UsyFmkm_60a"
      },
      "source": [
        "# Analysis Configuration & Constants\n",
        "\n"
      ]
    },
    {
      "cell_type": "markdown",
      "metadata": {
        "id": "mSfhKG5BRZi0"
      },
      "source": [
        "Data sourced from the [2023 US ADP Report](https://www.evolved.energy/2023-us-adp) and exported into CSV format."
      ]
    },
    {
      "cell_type": "code",
      "execution_count": 19,
      "metadata": {
        "id": "DknVauCv_R3Q"
      },
      "outputs": [],
      "source": [
        "# filepath to ECapacity data (CSV)\n",
        "data_path = 'data/ECapacity.csv'\n",
        "\n",
        "# Export filepath (JSON)\n",
        "export_path = 'data/projects.json'\n",
        "\n",
        "# policy name (as specified in CSV file/ADP report)\n",
        "policy = 'Central'\n",
        "\n",
        "# year range to analyze\n",
        "start_year = 2021\n",
        "end_year = 2050"
      ]
    },
    {
      "cell_type": "markdown",
      "metadata": {
        "id": "1md-lYgwFYXg"
      },
      "source": [
        "## Gigawatts Per Project\n",
        "A dictionary to convert between project type and GW produced per project\n",
        "[(source, in MW)](https://docs.google.com/presentation/d/1-2MsOicq1c1aPRusFySC3uiG0ezH5gRE/edit#slide=id.p26).\n",
        "\n",
        "You can choose to specify as many project types as you want. Leave the ones that you do not wish to analyze with a ``None`` value (these project types will be ignored in the analysis)."
      ]
    },
    {
      "cell_type": "code",
      "execution_count": 20,
      "metadata": {
        "colab": {
          "base_uri": "https://localhost:8080/"
        },
        "id": "dRVsPyY5E8DA",
        "outputId": "bba3815a-88e1-442e-e7b8-092214ce1a79"
      },
      "outputs": [
        {
          "data": {
            "text/plain": [
              "{'Transmission-sited Solar': 0.543,\n",
              " 'Offshore Wind': 1.184,\n",
              " 'Onshore Wind': 0.724,\n",
              " 'Gas w/CC': 0.868}"
            ]
          },
          "execution_count": 20,
          "metadata": {},
          "output_type": "execute_result"
        }
      ],
      "source": [
        "# Megawatts produced per project (on average)\n",
        "project_to_MW = {\n",
        "    'Customer-sited Solar': None,\n",
        "    'Transmission-sited Solar': 543.0,\n",
        "    'Offshore Wind': 1184.0,\n",
        "    'Onshore Wind': 724.0,\n",
        "    'Biomass w/CC': None,\n",
        "    'Gas w/CC': 868.0,  # Assume new energy production will use only CCGT\n",
        "    'Gas': None,\n",
        "    'Coal': None,\n",
        "    'Nuclear': None,\n",
        "    'Hydro': None,\n",
        "    'Other': None\n",
        "}\n",
        "\n",
        "# Convert values to Gigawatts, remove None values\n",
        "MW_TO_GW = 1/1000.0\n",
        "project_to_GW = dict()\n",
        "for k, v in project_to_MW.items():\n",
        "    if v is not None:\n",
        "        project_to_GW[k] = v * MW_TO_GW\n",
        "\n",
        "project_to_GW"
      ]
    },
    {
      "cell_type": "markdown",
      "metadata": {
        "id": "HCrIby9XCRcg"
      },
      "source": [
        "## Duration Per Project\n",
        "A dictionary to convert between project type and total duration of project\n",
        "[(source, in weeks)](https://docs.google.com/presentation/d/1-2MsOicq1c1aPRusFySC3uiG0ezH5gRE/edit#slide=id.p16).\n",
        "\n",
        "Again, specify as many projects as you wish (the rest will be ignored)."
      ]
    },
    {
      "cell_type": "code",
      "execution_count": 21,
      "metadata": {
        "colab": {
          "base_uri": "https://localhost:8080/"
        },
        "id": "S-rJyGwECi_8",
        "outputId": "59fb0efb-8469-4d0d-a93c-1d1f97dea37b"
      },
      "outputs": [
        {
          "data": {
            "text/plain": [
              "{'Transmission-sited Solar': 6.0,\n",
              " 'Offshore Wind': 7.5,\n",
              " 'Onshore Wind': 6.0,\n",
              " 'Gas w/CC': 7.0}"
            ]
          },
          "execution_count": 21,
          "metadata": {},
          "output_type": "execute_result"
        }
      ],
      "source": [
        "# Duration (in weeks) per project (on average)\n",
        "project_duration_weeks = {\n",
        "    'Customer-sited Solar': None,\n",
        "    'Transmission-sited Solar': 312.0,\n",
        "    'Offshore Wind': 390.0,\n",
        "    'Onshore Wind': 312.0,\n",
        "    'Biomass w/CC': None,\n",
        "    'Gas w/CC': 364.0,\n",
        "    'Gas': None,\n",
        "    'Coal': None,\n",
        "    'Nuclear': None,\n",
        "    'Hydro': None,\n",
        "    'Other': None\n",
        "}\n",
        "\n",
        "# Convert values to years, remove None values\n",
        "WEEK_TO_YEAR = 1/52.0\n",
        "project_duration = dict()\n",
        "for k, v in project_duration_weeks.items():\n",
        "    if v is not None:\n",
        "        project_duration[k] = v * WEEK_TO_YEAR\n",
        "\n",
        "if project_duration.keys() != project_to_GW.keys():\n",
        "    raise Exception(\"Need to specify both MW/projects and keys\")\n",
        "\n",
        "project_duration"
      ]
    },
    {
      "cell_type": "markdown",
      "metadata": {
        "id": "yKhlRgHE_zxP"
      },
      "source": [
        "# Import and Clean Data"
      ]
    },
    {
      "cell_type": "code",
      "execution_count": 22,
      "metadata": {
        "collapsed": true,
        "id": "4vXsGLbI4Isc"
      },
      "outputs": [],
      "source": [
        "import pandas as pd\n",
        "df = pd.read_csv(data_path)\n",
        "\n",
        "# simplify column names\n",
        "df.columns = ['Policy', 'Tech', 'State', 'Year', 'Value', 'Unit']\n",
        "\n",
        "# remove NaN values\n",
        "df = df.dropna()\n",
        "\n",
        "# select policy (ex: Central)\n",
        "df = df.loc[df['Policy'] == policy]\n",
        "\n",
        "# relabel indices\n",
        "df = df.reset_index(drop=True)\n",
        "\n",
        "# convert Year to int\n",
        "df['Year'] = df['Year'].astype(int)"
      ]
    },
    {
      "cell_type": "code",
      "execution_count": 23,
      "metadata": {
        "colab": {
          "base_uri": "https://localhost:8080/",
          "height": 363
        },
        "id": "69y8vr-C9bSG",
        "outputId": "096c4c76-7525-4f0f-c987-427f16c0b6e8"
      },
      "outputs": [
        {
          "data": {
            "text/html": [
              "<div>\n",
              "<style scoped>\n",
              "    .dataframe tbody tr th:only-of-type {\n",
              "        vertical-align: middle;\n",
              "    }\n",
              "\n",
              "    .dataframe tbody tr th {\n",
              "        vertical-align: top;\n",
              "    }\n",
              "\n",
              "    .dataframe thead th {\n",
              "        text-align: right;\n",
              "    }\n",
              "</style>\n",
              "<table border=\"1\" class=\"dataframe\">\n",
              "  <thead>\n",
              "    <tr style=\"text-align: right;\">\n",
              "      <th></th>\n",
              "      <th>Policy</th>\n",
              "      <th>Tech</th>\n",
              "      <th>State</th>\n",
              "      <th>Year</th>\n",
              "      <th>Value</th>\n",
              "      <th>Unit</th>\n",
              "    </tr>\n",
              "  </thead>\n",
              "  <tbody>\n",
              "    <tr>\n",
              "      <th>3152</th>\n",
              "      <td>Central</td>\n",
              "      <td>Other</td>\n",
              "      <td>maine</td>\n",
              "      <td>2021</td>\n",
              "      <td>1.092</td>\n",
              "      <td>gigawatt</td>\n",
              "    </tr>\n",
              "    <tr>\n",
              "      <th>1886</th>\n",
              "      <td>Central</td>\n",
              "      <td>Gas</td>\n",
              "      <td>kansas</td>\n",
              "      <td>2025</td>\n",
              "      <td>3.542</td>\n",
              "      <td>gigawatt</td>\n",
              "    </tr>\n",
              "    <tr>\n",
              "      <th>2199</th>\n",
              "      <td>Central</td>\n",
              "      <td>Coal</td>\n",
              "      <td>georgia</td>\n",
              "      <td>2040</td>\n",
              "      <td>5.401</td>\n",
              "      <td>gigawatt</td>\n",
              "    </tr>\n",
              "    <tr>\n",
              "      <th>674</th>\n",
              "      <td>Central</td>\n",
              "      <td>Transmission-sited Solar</td>\n",
              "      <td>vermont</td>\n",
              "      <td>2040</td>\n",
              "      <td>0.405</td>\n",
              "      <td>gigawatt</td>\n",
              "    </tr>\n",
              "    <tr>\n",
              "      <th>2746</th>\n",
              "      <td>Central</td>\n",
              "      <td>Hydro</td>\n",
              "      <td>hawaii</td>\n",
              "      <td>2045</td>\n",
              "      <td>0.011</td>\n",
              "      <td>gigawatt</td>\n",
              "    </tr>\n",
              "    <tr>\n",
              "      <th>875</th>\n",
              "      <td>Central</td>\n",
              "      <td>Offshore Wind</td>\n",
              "      <td>nebraska</td>\n",
              "      <td>2035</td>\n",
              "      <td>0.000</td>\n",
              "      <td>gigawatt</td>\n",
              "    </tr>\n",
              "    <tr>\n",
              "      <th>433</th>\n",
              "      <td>Central</td>\n",
              "      <td>Transmission-sited Solar</td>\n",
              "      <td>hawaii</td>\n",
              "      <td>2021</td>\n",
              "      <td>0.284</td>\n",
              "      <td>gigawatt</td>\n",
              "    </tr>\n",
              "    <tr>\n",
              "      <th>1395</th>\n",
              "      <td>Central</td>\n",
              "      <td>Biomass w/CC</td>\n",
              "      <td>florida</td>\n",
              "      <td>2050</td>\n",
              "      <td>0.021</td>\n",
              "      <td>gigawatt</td>\n",
              "    </tr>\n",
              "    <tr>\n",
              "      <th>331</th>\n",
              "      <td>Central</td>\n",
              "      <td>Customer-sited Solar</td>\n",
              "      <td>washington</td>\n",
              "      <td>2030</td>\n",
              "      <td>1.091</td>\n",
              "      <td>gigawatt</td>\n",
              "    </tr>\n",
              "    <tr>\n",
              "      <th>116</th>\n",
              "      <td>Central</td>\n",
              "      <td>Customer-sited Solar</td>\n",
              "      <td>kansas</td>\n",
              "      <td>2040</td>\n",
              "      <td>0.760</td>\n",
              "      <td>gigawatt</td>\n",
              "    </tr>\n",
              "  </tbody>\n",
              "</table>\n",
              "</div>"
            ],
            "text/plain": [
              "       Policy                      Tech       State  Year  Value      Unit\n",
              "3152  Central                     Other       maine  2021  1.092  gigawatt\n",
              "1886  Central                       Gas      kansas  2025  3.542  gigawatt\n",
              "2199  Central                      Coal     georgia  2040  5.401  gigawatt\n",
              "674   Central  Transmission-sited Solar     vermont  2040  0.405  gigawatt\n",
              "2746  Central                     Hydro      hawaii  2045  0.011  gigawatt\n",
              "875   Central             Offshore Wind    nebraska  2035  0.000  gigawatt\n",
              "433   Central  Transmission-sited Solar      hawaii  2021  0.284  gigawatt\n",
              "1395  Central              Biomass w/CC     florida  2050  0.021  gigawatt\n",
              "331   Central      Customer-sited Solar  washington  2030  1.091  gigawatt\n",
              "116   Central      Customer-sited Solar      kansas  2040  0.760  gigawatt"
            ]
          },
          "execution_count": 23,
          "metadata": {},
          "output_type": "execute_result"
        }
      ],
      "source": [
        "# sample and view data\n",
        "df.sample(10)"
      ]
    },
    {
      "cell_type": "markdown",
      "metadata": {
        "id": "n1XS9Nmh__1W"
      },
      "source": [
        "# Total Number of Projects Needed by 2050"
      ]
    },
    {
      "cell_type": "markdown",
      "metadata": {
        "id": "sO7gPqpY9wdb"
      },
      "source": [
        "**Assumption: projects are not retired after they are built.**\n",
        "\n",
        "Thus, the capacity at 2050 minus the capacity at 2021 represents the total capacity built. Then, by dividing by the capacity per project (depending on type of project), we can figure out how many projects are built.\n",
        "\n"
      ]
    },
    {
      "cell_type": "code",
      "execution_count": 24,
      "metadata": {
        "id": "zkF2J7a496qu"
      },
      "outputs": [],
      "source": [
        "'''\n",
        "Group all project capcaity by \"tech\" (project type) in a given year.\n",
        "'''\n",
        "def groupProjectsByTechInYear(df, year):\n",
        "    # Select the target year\n",
        "    df_year = df.loc[df['Year'] == year]\n",
        "\n",
        "    # Sum states together, keep tech separate\n",
        "    df_year = df_year.groupby(['Tech', 'Year']).sum().reset_index()\n",
        "\n",
        "    # drop unused columns\n",
        "    df_year = df_year.drop(['Policy', 'Year', 'State', 'Unit'], axis=1)\n",
        "\n",
        "    return df_year.set_index('Tech')"
      ]
    },
    {
      "cell_type": "code",
      "execution_count": 25,
      "metadata": {
        "id": "DAWinqZc6BKv"
      },
      "outputs": [],
      "source": [
        "'''\n",
        "Of the specified projects (known project MW value), make sure each is in the\n",
        "dataframe, otherwise fill with 0.\n",
        "'''\n",
        "def ensure_all_techs_present(data):\n",
        "    for tech in project_to_GW.keys():\n",
        "        if tech not in data.index:\n",
        "            data.loc[tech] = 0\n",
        "    return data"
      ]
    },
    {
      "cell_type": "code",
      "execution_count": 26,
      "metadata": {
        "id": "Eyk-HZH3KJmP"
      },
      "outputs": [],
      "source": [
        "'''\n",
        "Find the total number of projects needed between start and end years\n",
        "'''\n",
        "def num_projects_needed(df, start_interval=start_year, end_interval=end_year):\n",
        "    # group projects by tech in a given year\n",
        "    df_start = groupProjectsByTechInYear(df, start_interval)\n",
        "    df_end = groupProjectsByTechInYear(df, end_interval)\n",
        "\n",
        "    # ensure all techs are present\n",
        "    df_start = ensure_all_techs_present(df_start)\n",
        "    df_end = ensure_all_techs_present(df_end)\n",
        "\n",
        "    # find difference between values of end and start for each respective tech column\n",
        "    diff = df_end.sub(df_start, fill_value=0)\n",
        "\n",
        "    # drop Tech rows in diff not in project_to_GW.keys()\n",
        "    num_projects = diff.loc[project_to_GW.keys()]\n",
        "\n",
        "    # divide by project_to_GW to get number of projects\n",
        "    num_projects = num_projects.div(project_to_GW, axis=0)\n",
        "    num_projects.columns = ['# Projects Needed']\n",
        "\n",
        "    return num_projects"
      ]
    },
    {
      "cell_type": "code",
      "execution_count": null,
      "metadata": {
        "colab": {
          "base_uri": "https://localhost:8080/",
          "height": 206
        },
        "id": "F12eeIiW7F4Y",
        "outputId": "32d72a23-d2c5-48cb-c302-c287fd2c1987"
      },
      "outputs": [],
      "source": [
        "num_projects = num_projects_needed(df, start_year, end_year)\n",
        "num_projects"
      ]
    },
    {
      "cell_type": "markdown",
      "metadata": {
        "id": "siewLCNrwNM-"
      },
      "source": [
        "# Number of Projects Needed by Year"
      ]
    },
    {
      "cell_type": "markdown",
      "metadata": {
        "id": "7D5T8hMJwYHs"
      },
      "source": [
        "This is the same approach as calculating the total number of projects needed, but keeping the projects separated by year built. Instead of taking the difference over the entire period ($c_{2050} - c_{2021}$), we take the difference between the start and end of each interval."
      ]
    },
    {
      "cell_type": "code",
      "execution_count": null,
      "metadata": {
        "colab": {
          "base_uri": "https://localhost:8080/",
          "height": 206
        },
        "id": "8O1jUoq3wY70",
        "outputId": "9b78f900-51e5-4202-b00a-b65d1fa6a910"
      },
      "outputs": [],
      "source": [
        "years = [2021, 2025, 2030, 2035, 2040, 2045, 2050]\n",
        "\n",
        "num_by_year = pd.DataFrame()\n",
        "for i in range(len(years)-1):\n",
        "    start_interval = years[i]\n",
        "    end_interval = years[i+1]\n",
        "\n",
        "    num_interval = num_projects_needed(df, start_interval, end_interval)\n",
        "    num_interval.columns = [str(start_interval)]\n",
        "\n",
        "    num_by_year = pd.concat([num_by_year, num_interval], axis=1)\n",
        "\n",
        "# add a total column\n",
        "num_by_year['Total by 2050'] = num_by_year.sum(axis=1)\n",
        "\n",
        "num_by_year"
      ]
    },
    {
      "cell_type": "markdown",
      "metadata": {
        "id": "mR_8AgcnB5zR"
      },
      "source": [
        "# Exporting Projects"
      ]
    },
    {
      "cell_type": "markdown",
      "metadata": {
        "id": "26eq7n3cwWYB"
      },
      "source": [
        "Given the number of projects needed (as calculated above), generate a ``projects`` dictionary according to the format from ``MILP-Solution.ipynb``. Export as JSON so ``MILP-Solution.ipynb`` can read it to find the optimal schedule.\n",
        "\n",
        "Format:\n",
        "```\n",
        "projects = {\n",
        "    id#: {\"name\": project_type, \"duration\": duration, \"dependencies\": [id#, id#, ...]},\n",
        "    ...\n",
        "}\n",
        "```\n",
        "\n",
        "Example:\n",
        "```\n",
        "projects = {\n",
        "    '1': {\"name\": \"Wind Farm\", \"duration\": 1.0, \"dependencies\": []},\n",
        "    '2': {\"name\": \"H2\", \"duration\": 1.0, \"dependencies\": []},\n",
        "    '3': {\"name\": \"Solar Farm\", \"duration\": 1.0, \"dependencies\": [2]},\n",
        "    '4': {\"name\": \"Solar Farm\", \"duration\": 2.0, \"dependencies\": [1, 3]},\n",
        "    '5': {\"name\": \"H2 Plant\", \"duration\": 3.0, \"dependencies\": [1, 2, 6]},\n",
        "    '6': {\"name\": \"Wind Farm\", \"duration\": 1.0, \"dependencies\": [1]},\n",
        "}\n",
        "```"
      ]
    },
    {
      "cell_type": "markdown",
      "metadata": {
        "id": "d0Z-LYZQ63GT"
      },
      "source": [
        "The \"Year ___\" projects are virtual item that represents the end of each time interval. This is useful because then we can have certain projects depend on that interval \"finishing\" (i.e. we can make projects that don't begin until a certain year)."
      ]
    },
    {
      "cell_type": "code",
      "execution_count": null,
      "metadata": {
        "collapsed": true,
        "id": "joZmPHKr9AKv"
      },
      "outputs": [],
      "source": [
        "# make a csv of projects based on # needed\n",
        "projects = {}\n",
        "index = 0\n",
        "\n",
        "# add projects representing the end of the year\n",
        "year_to_index = dict(zip(years, [index for index, year in enumerate(years)]))\n",
        "for year in years:\n",
        "    projects[index] = {\"name\": f\"Year {year}\", \"duration\": year - 2021, \"dependencies\": []}\n",
        "    index += 1\n",
        "\n",
        "# add actual projects, dependending on what year they need to start\n",
        "for year in years[:-1]:\n",
        "    for category in num_by_year.index:\n",
        "        for i in range(int(num_by_year[str(year)][category])):\n",
        "            projects[index] = {\"name\": category, \"duration\": project_duration[category], \"dependencies\": [year_to_index[year]]}\n",
        "            # projects[index] = {\"name\": category, \"capacity\": #, \"duration\": project_duration[category], \"dependencies\": [year_to_index[year]]}\n",
        "            index += 1\n",
        "\n",
        "# export dictionary to json\n",
        "import json\n",
        "with open(export_path, 'w') as f:\n",
        "    json.dump(projects, f)"
      ]
    }
  ],
  "metadata": {
    "colab": {
      "provenance": []
    },
    "kernelspec": {
      "display_name": "Python 3",
      "name": "python3"
    },
    "language_info": {
      "codemirror_mode": {
        "name": "ipython",
        "version": 3
      },
      "file_extension": ".py",
      "mimetype": "text/x-python",
      "name": "python",
      "nbconvert_exporter": "python",
      "pygments_lexer": "ipython3",
      "version": "3.9.13"
    }
  },
  "nbformat": 4,
  "nbformat_minor": 0
}
