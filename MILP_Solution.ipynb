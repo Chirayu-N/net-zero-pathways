{
  "cells": [
    {
      "cell_type": "markdown",
      "metadata": {
        "id": "d9RmMRCNNMy2"
      },
      "source": [
        "# Setup\n",
        "Various options for the solution analysis.\n"
      ]
    },
    {
      "cell_type": "code",
      "execution_count": 1,
      "metadata": {
        "id": "PyW-K1fDNPLQ"
      },
      "outputs": [],
      "source": [
        "''' DATA '''\n",
        "# path to projects JSON file\n",
        "PROJECTS_JSON_PATH = 'data/projects.json'\n",
        "\n",
        "# use test data instead (default: False)\n",
        "do_test = False\n",
        "\n",
        "''' OUTPUT '''\n",
        "# print individual project start/end (default: False)\n",
        "do_print = False\n",
        "\n",
        "# plot Gantt Chart (default: True)\n",
        "do_plot = True"
      ]
    },
    {
      "cell_type": "markdown",
      "metadata": {
        "id": "xUv6xmhXJ1gE"
      },
      "source": [
        "# Package Installation"
      ]
    },
    {
      "cell_type": "markdown",
      "metadata": {
        "id": "oLh0BGOLOgNx"
      },
      "source": [
        "The [PuLP](https://coin-or.github.io/pulp/index.html) package is used to solve the Mixed Integer Linear Programming problem."
      ]
    },
    {
      "cell_type": "code",
      "execution_count": 2,
      "metadata": {
        "colab": {
          "base_uri": "https://localhost:8080/"
        },
        "id": "t19UB72tJyIz",
        "outputId": "d9c0aee0-7635-48aa-fbb3-2f75a384c1f6"
      },
      "outputs": [
        {
          "name": "stdout",
          "output_type": "stream",
          "text": [
            "Installing pulp package...\n",
            "Collecting pulp\n",
            "  Downloading PuLP-2.9.0-py3-none-any.whl.metadata (5.4 kB)\n",
            "Downloading PuLP-2.9.0-py3-none-any.whl (17.7 MB)\n",
            "\u001b[2K   \u001b[90m━━━━━━━━━━━━━━━━━━━━━━━━━━━━━━━━━━━━━━━━\u001b[0m \u001b[32m17.7/17.7 MB\u001b[0m \u001b[31m3.7 MB/s\u001b[0m eta \u001b[36m0:00:00\u001b[0m00:01\u001b[0m00:01\u001b[0m\n",
            "\u001b[?25hInstalling collected packages: pulp\n",
            "Successfully installed pulp-2.9.0\n",
            "\n",
            "\u001b[1m[\u001b[0m\u001b[34;49mnotice\u001b[0m\u001b[1;39;49m]\u001b[0m\u001b[39;49m A new release of pip is available: \u001b[0m\u001b[31;49m23.3.2\u001b[0m\u001b[39;49m -> \u001b[0m\u001b[32;49m24.2\u001b[0m\n",
            "\u001b[1m[\u001b[0m\u001b[34;49mnotice\u001b[0m\u001b[1;39;49m]\u001b[0m\u001b[39;49m To update, run: \u001b[0m\u001b[32;49mpip install --upgrade pip\u001b[0m\n"
          ]
        }
      ],
      "source": [
        "try:\n",
        "    import pulp\n",
        "    print(\"pulp package already installed.\")\n",
        "\n",
        "except ModuleNotFoundError:\n",
        "    print(\"Installing pulp package...\")\n",
        "    !pip install pulp"
      ]
    },
    {
      "cell_type": "markdown",
      "metadata": {
        "id": "FBobmzNFKWSZ"
      },
      "source": [
        "# Import Project Data"
      ]
    },
    {
      "cell_type": "code",
      "execution_count": 3,
      "metadata": {
        "id": "lkM88cQLPxiH"
      },
      "outputs": [],
      "source": [
        "# import from json file\n",
        "import json\n",
        "with open(PROJECTS_JSON_PATH, \"r\") as file:\n",
        "    projects = json.load(file)\n",
        "\n",
        "# use test data if test option is enabled\n",
        "if do_test:\n",
        "  projects = {\n",
        "      '1': {\"name\": \"Wind Farm\", \"duration\": 1.0, \"dependencies\": []},\n",
        "      '2': {\"name\": \"H2\", \"duration\": 1.0, \"dependencies\": []},\n",
        "      '3': {\"name\": \"Solar Farm\", \"duration\": 1.0, \"dependencies\": [2]},\n",
        "      '4': {\"name\": \"Solar Farm\", \"duration\": 2.0, \"dependencies\": [1, 3]},\n",
        "      '5': {\"name\": \"H2 Plant\", \"duration\": 3.0, \"dependencies\": [1, 2, 6]},\n",
        "      '6': {\"name\": \"Wind Farm\", \"duration\": 1.0, \"dependencies\": [1]},\n",
        "  }"
      ]
    },
    {
      "cell_type": "code",
      "execution_count": 4,
      "metadata": {
        "id": "2-Q53Xc0LWCt"
      },
      "outputs": [],
      "source": [
        "import pulp as pl\n",
        "\n",
        "# LP variable representing the start of a project\n",
        "start_times = {}\n",
        "\n",
        "# mapping from LP variable to its duration (useful later)\n",
        "var_duration = dict()\n",
        "\n",
        "# create LP variables\n",
        "for project_id, project_data in projects.items():\n",
        "    project_id = int(project_id)\n",
        "    name = project_data[\"name\"].replace(\" \", \"_\")\n",
        "    var_name = f\"#{project_id}-{name}-Start\"\n",
        "    start_var = pl.LpVariable(var_name, lowBound=0, cat=pl.LpInteger)\n",
        "    start_times[project_id] = start_var\n",
        "    var_duration[start_var] = project_data[\"duration\"]"
      ]
    },
    {
      "cell_type": "markdown",
      "metadata": {
        "id": "IO8H_0hpK2Kq"
      },
      "source": [
        "# Define + Solve Problem"
      ]
    },
    {
      "cell_type": "code",
      "execution_count": 5,
      "metadata": {
        "colab": {
          "base_uri": "https://localhost:8080/"
        },
        "id": "e7ogs1DCJvt2",
        "outputId": "ab0677da-96d8-45a0-f6cd-4fcff4a3054b"
      },
      "outputs": [
        {
          "name": "stderr",
          "output_type": "stream",
          "text": [
            "/Users/chirayu/opt/anaconda3/lib/python3.9/site-packages/pulp/pulp.py:1298: UserWarning: Spaces are not permitted in the name. Converted to '_'\n",
            "  warnings.warn(\"Spaces are not permitted in the name. Converted to '_'\")\n"
          ]
        }
      ],
      "source": [
        "problem = pl.LpProblem(\"Project Schedule\", pl.LpMinimize)\n",
        "\n",
        "# objective function\n",
        "problem += sum(start_times.values())"
      ]
    },
    {
      "cell_type": "code",
      "execution_count": 6,
      "metadata": {
        "id": "etORB4fpV6F2"
      },
      "outputs": [],
      "source": [
        "# constraints (project dependencies)\n",
        "for project_id, project_data in projects.items():\n",
        "    for dependency in project_data[\"dependencies\"]:\n",
        "      problem += start_times[int(project_id)] >= start_times[int(dependency)] + projects[str(dependency)][\"duration\"]\n"
      ]
    },
    {
      "cell_type": "code",
      "execution_count": null,
      "metadata": {
        "colab": {
          "base_uri": "https://localhost:8080/"
        },
        "id": "Vv2h9fuYLvj8",
        "outputId": "65e733f5-beb5-4cd6-80e1-5e95775b39ef"
      },
      "outputs": [],
      "source": [
        "status = problem.solve()\n",
        "\n",
        "if pl.LpStatus[status] == \"Optimal\":\n",
        "    print(\"Optimal Solution found!\")\n",
        "\n",
        "    end_times = [x.varValue + var_duration[x] for x in problem.variables()]\n",
        "    plan_duration = max(end_times)\n",
        "    print(\"Plan Duration:\", plan_duration)\n",
        "\n",
        "    if do_print:\n",
        "      print(\"Project Schedule:\")\n",
        "      for project_id, project_data in projects.items():\n",
        "          start_time = pl.value(start_times[int(project_id)])\n",
        "          end_time = start_time + project_data[\"duration\"]\n",
        "          name = project_data[\"name\"].replace(\" \", \"_\")\n",
        "          print(f\"{name}: Start - {start_time:.2f}, End - {end_time:.2f}\")\n",
        "else:\n",
        "  print(f\"Error: {pl.LpStatus[status]}. Status {status}\")\n"
      ]
    },
    {
      "cell_type": "markdown",
      "metadata": {
        "id": "aEWhYnlMK7cF"
      },
      "source": [
        "# Plot"
      ]
    },
    {
      "cell_type": "code",
      "execution_count": 8,
      "metadata": {
        "colab": {
          "base_uri": "https://localhost:8080/",
          "height": 472
        },
        "id": "g07dNqkwLAo0",
        "outputId": "c8e5e9b7-666d-49c3-a7f9-c19cb9cdd4a9"
      },
      "outputs": [
        {
          "data": {
            "image/png": "[encoded data removed]",
            "text/plain": [
              "<Figure size 640x480 with 1 Axes>"
            ]
          },
          "metadata": {},
          "output_type": "display_data"
        }
      ],
      "source": [
        "import matplotlib.pyplot as plt\n",
        "\n",
        "# TODO: aggregate projects together (ex: all solar farms pre-FID)\n",
        "# TODO: plot cumulative capacity deployed (compare model deployed capacity over time)\n",
        "\n",
        "if do_plot:\n",
        "  project_names = [project_data[\"name\"] + f\" (id {project_id})\" for project_id, project_data in projects.items()]\n",
        "  project_start_times = [pl.value(start_times[int(project_id)]) for project_id, project_data in projects.items()]\n",
        "  durations = [project_data[\"duration\"] for project_id, project_data in projects.items()]\n",
        "\n",
        "  # plot starting at 2021\n",
        "  adjusted_start_times = [start_time + 2021 for start_time in project_start_times]\n",
        "\n",
        "  plt.barh(project_names, durations, left=adjusted_start_times)\n",
        "  plt.xlabel(\"Start Time\")\n",
        "  plt.ylabel(\"Project\")\n",
        "  plt.title(\"Year Schedule\")\n",
        "\n",
        "  # remove individual project labels (for now)\n",
        "  plt.yticks([])\n",
        "\n",
        "  plt.gca().invert_yaxis()  # Invert y-axis to display projects from top to bottom\n",
        "  plt.grid(axis=\"x\", linestyle=\"--\", alpha=0.6)\n",
        "  plt.show()\n",
        "\n",
        "else:\n",
        "  print(\"Plot disabled.\")"
      ]
    }
  ],
  "metadata": {
    "colab": {
      "provenance": []
    },
    "kernelspec": {
      "display_name": "Python 3",
      "name": "python3"
    },
    "language_info": {
      "codemirror_mode": {
        "name": "ipython",
        "version": 3
      },
      "file_extension": ".py",
      "mimetype": "text/x-python",
      "name": "python",
      "nbconvert_exporter": "python",
      "pygments_lexer": "ipython3",
      "version": "3.9.13"
    }
  },
  "nbformat": 4,
  "nbformat_minor": 0
}
